{
 "cells": [
  {
   "cell_type": "code",
   "execution_count": 1,
   "metadata": {
    "tags": [
     "remove-cell"
    ]
   },
   "outputs": [],
   "source": [
    "%run -i ../python/common.py"
   ]
  },
  {
   "attachments": {},
   "cell_type": "markdown",
   "metadata": {},
   "source": [
    "# Publishing Textbook"
   ]
  },
  {
   "attachments": {},
   "cell_type": "markdown",
   "metadata": {},
   "source": [
    "OPE utilizes [GitHub Pages](https://pages.github.com/) to allow you to easily deploy your website for free.\n",
    "\n",
    "First, make sure in the xx_config.yml files that the URL, path to book, and branch are all correct. An example for this textbook is:\n",
    "\n",
    "\n",
    "```\n",
    "repository:\n",
    "  url: https://github.com/IsaiahStapleton/ope-docubook\n",
    "  path_to_book: content\n",
    "  branch: main\n",
    "```\n",
    "\n",
    "Run the following command in the same directory as the Makefile in order to publish the textbook, lecture notes, and lab manual:\n",
    "\n",
    "```shell\n",
    "\n",
    "make pub\n",
    "\n",
    "```\n",
    "\n",
    "You may also run this command to only publish certain materials, such as if you only wanted to publish the textbook (remember that xx is referring to tb, ln, lm):\n",
    "\n",
    "```shell\n",
    "\n",
    "make pub-xx\n",
    "\n",
    "```\n"
   ]
  },
  {
   "attachments": {},
   "cell_type": "markdown",
   "metadata": {},
   "source": [
    "After this has been done, there will be a new branch titled 'gh-pages' within your repository. Go to settings -> pages and make sure the branch you are deploying GitHub pages from is the gh-pages branch. At the top of the page it will give you the URL of where the site is live. If you go to that link you may see a 404 error, that is because at the end of the URL you must add /textbook, /lecturenotes, or /labmanual to view each one respectively."
   ]
  },
  {
   "attachments": {},
   "cell_type": "markdown",
   "metadata": {},
   "source": [
    "<center>\n",
    "<img src=\"../images/src/part3ch4_pub.png\" width=1200px> \n",
    "</center>"
   ]
  }
 ],
 "metadata": {
  "kernelspec": {
   "display_name": ".venv",
   "language": "python",
   "name": "python3"
  },
  "language_info": {
   "codemirror_mode": {
    "name": "ipython",
    "version": 3
   },
   "file_extension": ".py",
   "mimetype": "text/x-python",
   "name": "python",
   "nbconvert_exporter": "python",
   "pygments_lexer": "ipython3",
   "version": "3.10.10"
  },
  "orig_nbformat": 4
 },
 "nbformat": 4,
 "nbformat_minor": 2
}
