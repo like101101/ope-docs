{
 "cells": [
  {
   "attachments": {},
   "cell_type": "markdown",
   "metadata": {},
   "source": [
    "# Creating Content "
   ]
  },
  {
   "attachments": {},
   "cell_type": "markdown",
   "metadata": {},
   "source": [
    "Now that you understand the layout of the template, you are ready to start creating content for the textbook.\n",
    "\n",
    "As was mentioned previously the xx_toc.yml file is used to specify the files that contain the content of the book. It is recommended to use ipynb format, as that will allow you to utilize the full power of the textbook. At the top of every ipynb file, you should include a code cell with the following line: \n",
    "```\n",
    "%run -i ../python/common.py\n",
    "```\n",
    "This will enable powerful notebook functions such as: displaying a series of slide images, displaying html table, and displaying interactive terminal media player, just to name a few.\n",
    "\n",
    "Add cell tag: 'remove-cell', in order to not have this import cell displayed in your textbook html.\n",
    "\n",
    "Following this you should specify a title for the subsection by creating a markdown cell and creating an h1 text element:\n",
    "```\n",
    "# Title\n",
    "```\n",
    "\n",
    "After this, you are able to freely add either code cells or markdown cells and they will be displayed in the same way they appear in the ipynb file."
   ]
  },
  {
   "cell_type": "code",
   "execution_count": 8,
   "metadata": {
    "tags": []
   },
   "outputs": [],
   "source": [
    "%run -i ../python/common.py\n",
    "bash = BashSession()"
   ]
  },
  {
   "attachments": {},
   "cell_type": "markdown",
   "metadata": {},
   "source": [
    "## Special Displays\n",
    "\n",
    "### A sample image that use customized styles"
   ]
  },
  {
   "cell_type": "code",
   "execution_count": 4,
   "metadata": {},
   "outputs": [
    {
     "data": {
      "text/markdown": [
       "<!-- produced by: \n",
       "htmlFig(\"[{'src': '../images/src/sample-image.jpg'}]\", \n",
       "        id=\"fig:vnm\", \n",
       "        align=\"left\", \n",
       "        width=\"100%\",\n",
       "        margin=\"auto 3em 0 auto\",\n",
       "        caption=\"Figure: A Sample Image that use special style\", \n",
       "        captionalign=\"left\")\n",
       "-->\n",
       "<table id=\"fig:vnm\" align=\"left\" width=\"100%\" cellpadding=\"0\" cellspacing=\"0\" border=\"0\" style=\"border-collapse: collapse; margin: auto 3em 0 auto\">\n",
       "    <tr style=\"padding: 0; margin: 0;\"> \n",
       "        <td colspan=\"1\" width=\"100%\" style=\"padding: 0; margin: 0 0 0 0; background-color:inherit;\">\n",
       "            <div style=\"padding: 0; margin: 0 0 0 0;\">\n",
       "              <figure style=\"padding: 0; margin: 0 0 0 0; width:100%;\">\n",
       "                   <img src=\"../images/src/sample-image.jpg\" width=\"100%\" style=\"padding: 0; margin: 0;\">\n",
       "                </figure>\n",
       "            </div>\n",
       "        </td>\n",
       "    </tr>\n",
       "    <caption align=\"bottom\" style=\"text-align: left; padding: 0; margin: 0;\" >\n",
       "          <i>Figure: A Sample Image that use special style</i> \n",
       "    </caption>\n",
       "</table>\n"
      ],
      "text/plain": [
       "<IPython.core.display.Markdown object>"
      ]
     },
     "metadata": {},
     "output_type": "display_data"
    }
   ],
   "source": [
    "display(Markdown(htmlFig(\"../images/src/sample-image.jpg\", \n",
    "              align=\"left\", \n",
    "              margin=\"auto 3em 0 auto\", \n",
    "              width=\"100%\", id=\"fig:vnm\", \n",
    "             caption=\"Figure: A Sample Image that use special style\")))\n",
    "\n"
   ]
  },
  {
   "attachments": {},
   "cell_type": "markdown",
   "metadata": {},
   "source": [
    "### Display string in customized styles"
   ]
  },
  {
   "cell_type": "code",
   "execution_count": 5,
   "metadata": {},
   "outputs": [],
   "source": [
    "X=np.uint8(0xae)\n",
    "XL=np.bitwise_and(X,0xf)\n",
    "XH=np.bitwise_and(np.right_shift(X,4),0xf)"
   ]
  },
  {
   "cell_type": "code",
   "execution_count": 6,
   "metadata": {},
   "outputs": [
    {
     "data": {
      "text/markdown": [
       "<div style=\"font-size: 4em;\" align=\"center\">\n",
       "0b10101110 = 0xAE\n",
       "</div>"
      ],
      "text/plain": [
       "<IPython.core.display.Markdown object>"
      ]
     },
     "metadata": {},
     "output_type": "display_data"
    }
   ],
   "source": [
    "displayStr(\"0b10101110 = 0x\"+format(X,\"02X\"), size=\"4em\", align=\"center\")"
   ]
  },
  {
   "attachments": {},
   "cell_type": "markdown",
   "metadata": {},
   "source": [
    "### Display terminal shell command results"
   ]
  },
  {
   "cell_type": "code",
   "execution_count": 5,
   "metadata": {},
   "outputs": [
    {
     "data": {
      "application/vnd.jupyter.widget-view+json": {
       "model_id": "e9e9bab2ba784f0e9f586a03f49611ed",
       "version_major": 2,
       "version_minor": 0
      },
      "text/plain": [
       "Output(layout=Layout(border_bottom='1px solid black', border_left='1px solid black', border_right='1px solid b…"
      ]
     },
     "execution_count": 5,
     "metadata": {},
     "output_type": "execute_result"
    }
   ],
   "source": [
    "TermShellCmd(\"echo hello\")"
   ]
  },
  {
   "attachments": {},
   "cell_type": "markdown",
   "metadata": {},
   "source": [
    "### Display bash command in customized styles"
   ]
  },
  {
   "cell_type": "code",
   "execution_count": null,
   "metadata": {},
   "outputs": [],
   "source": [
    "bash.run(\"man mkdir\", height=\"10em\")"
   ]
  },
  {
   "cell_type": "code",
   "execution_count": null,
   "metadata": {},
   "outputs": [],
   "source": [
    "del bash"
   ]
  },
  {
   "attachments": {},
   "cell_type": "markdown",
   "metadata": {},
   "source": [
    "### Use HTML and CSS to customize styles"
   ]
  },
  {
   "attachments": {},
   "cell_type": "markdown",
   "metadata": {},
   "source": [
    "This is the example of image overlapping with backgrounds.\n",
    "\n",
    ">  <img style=\"display: inline; margin: 1em auto auto auto;\" align=\"left\" width=\"60px\" src=\"../images/src/logo.png\"> <p style=\"background-color:powderblue;\"> \n",
    "    *This is some sample texts.*: This is some sample texts.This is some sample texts.This is some sample texts. This is some sample texts. This is some sample texts. This is some sample texts. This is some sample texts. This is some sample texts. This is some sample texts. This is some sample texts. This is some sample texts. This is some sample texts. This is some sample texts. This is some sample texts. This is some sample texts. This is some sample texts. This is some sample texts. This is some sample texts. This is some sample texts. This is some sample texts.\n",
    "    <img align=\"right\" width=\"60\" src=\"../images/src/logo.png\">\n",
    "</p>"
   ]
  },
  {
   "attachments": {},
   "cell_type": "markdown",
   "metadata": {},
   "source": [
    "## Animation Examples"
   ]
  },
  {
   "attachments": {},
   "cell_type": "markdown",
   "metadata": {},
   "source": [
    "In this part of this book we will cover some special animated cells.\n",
    "\n",
    "If there's any misalignment with the baseline, unless noted above the cell output, please refer to the called functions in `common.py` file."
   ]
  },
  {
   "attachments": {},
   "cell_type": "markdown",
   "metadata": {},
   "source": [
    "### Display bytes in special styles"
   ]
  },
  {
   "cell_type": "code",
   "execution_count": null,
   "metadata": {},
   "outputs": [],
   "source": [
    "X=np.uint8(0xae)\n",
    "XL=np.bitwise_and(X,0xf)\n",
    "XH=np.bitwise_and(np.right_shift(X,4),0xf)"
   ]
  },
  {
   "cell_type": "code",
   "execution_count": null,
   "metadata": {},
   "outputs": [],
   "source": [
    "displayBytes([[0x00],[0xff]], labels=[\"ALL OFF\", \"ALL ON\"])"
   ]
  },
  {
   "cell_type": "code",
   "execution_count": null,
   "metadata": {},
   "outputs": [],
   "source": [
    "displayBytes(bytes=[[X]],td_font_size=\"2.5em\", th_font_size=\"1.5em\")"
   ]
  },
  {
   "attachments": {},
   "cell_type": "markdown",
   "metadata": {},
   "source": [
    "### Display series of slide images"
   ]
  },
  {
   "cell_type": "code",
   "execution_count": null,
   "metadata": {},
   "outputs": [],
   "source": [
    "display(mkImgsAnimateBox(dir=\"../images/imported_slides\",\n",
    "#                         force=True,\n",
    "                         saveto=\"save1.html\",\n",
    "    files=['General_Presentation_1.jpg',\n",
    "     'General_Presentation_2.jpg',\n",
    "     'General_Presentation_3.jpg',\n",
    "     'General_Presentation_4.jpg',\n",
    "     'General_Presentation_5.jpg',\n",
    "     'General_Presentation_6.jpg'\n",
    "          ]))"
   ]
  },
  {
   "attachments": {},
   "cell_type": "markdown",
   "metadata": {},
   "source": [
    "### Display HTML table"
   ]
  },
  {
   "attachments": {},
   "cell_type": "markdown",
   "metadata": {},
   "source": [
    "<a id=\"tbl:ctloperators\"></a>\n",
    "<center><em>Table Shell Control Operators</em></center>\n",
    "\n",
    "| Control Operator | Description    |\n",
    "| :--------------: | ------------- |\n",
    "|  newline   |  End of line |\n",
    "|      \\|\\|        |  Or list operator   |\n",
    "|      &&      |  And list operator  |\n",
    "|     ;          |  Sequential list operator |\n",
    "|     \\|          |  Pipe Operator |\n",
    "|     $\\&$         |  Background Operator | \n",
    "|    ( | Subshell list begin Operator |\n",
    "|    ) | Subshell list end Operator |\n",
    "|     ;; | Case statement end matching Operator |      \n",
    "|     ;& | Case statement fall through Operator |\n",
    "|     ;;& | Case statement continue matching Operator |"
   ]
  },
  {
   "attachments": {},
   "cell_type": "markdown",
   "metadata": {},
   "source": [
    "### Display website"
   ]
  },
  {
   "cell_type": "code",
   "execution_count": 6,
   "metadata": {},
   "outputs": [
    {
     "data": {
      "text/html": [
       "\n",
       "        <iframe\n",
       "            width=\"100%\"\n",
       "            height=\"600\"\n",
       "            src=\"https://en.wikipedia.org/wiki/List_of_Unix_commands\"\n",
       "            frameborder=\"0\"\n",
       "            allowfullscreen\n",
       "            \n",
       "        ></iframe>\n",
       "        "
      ],
      "text/plain": [
       "<IPython.lib.display.IFrame at 0x7f9e2d23e110>"
      ]
     },
     "metadata": {},
     "output_type": "display_data"
    }
   ],
   "source": [
    "display(IFrame(\"https://en.wikipedia.org/wiki/List_of_Unix_commands\", height=600, width=\"100%\"))"
   ]
  },
  {
   "attachments": {},
   "cell_type": "markdown",
   "metadata": {},
   "source": [
    "### Display interactive files"
   ]
  },
  {
   "cell_type": "code",
   "execution_count": 9,
   "metadata": {},
   "outputs": [
    {
     "data": {
      "text/html": [
       "\n",
       "<iframe src=\"https://jappavoo.github.io/SOL6502/index.html\", height=\"980px\" width=\"100%\"></iframe>\n"
      ],
      "text/plain": [
       "<IPython.core.display.HTML object>"
      ]
     },
     "metadata": {},
     "output_type": "display_data"
    }
   ],
   "source": [
    "display(HTML('''\n",
    "<iframe src=\"https://jappavoo.github.io/SOL6502/index.html\", height=\"980px\" width=\"100%\"></iframe>\n",
    "'''))"
   ]
  },
  {
   "attachments": {},
   "cell_type": "markdown",
   "metadata": {},
   "source": [
    "### Display videos"
   ]
  },
  {
   "cell_type": "code",
   "execution_count": 8,
   "metadata": {},
   "outputs": [
    {
     "data": {
      "text/html": [
       "\n",
       "<iframe src=\"https://jappavoo.github.io/SOL6502/asciinema/atest.html\", height=\"600x\" width=\"100%\"></iframe>\n"
      ],
      "text/plain": [
       "<IPython.core.display.HTML object>"
      ]
     },
     "metadata": {},
     "output_type": "display_data"
    }
   ],
   "source": [
    "display(HTML('''\n",
    "<iframe src=\"https://jappavoo.github.io/SOL6502/asciinema/atest.html\", height=\"600x\" width=\"100%\"></iframe>\n",
    "'''))"
   ]
  }
 ],
 "metadata": {
  "kernelspec": {
   "display_name": ".venv",
   "language": "python",
   "name": "python3"
  },
  "language_info": {
   "codemirror_mode": {
    "name": "ipython",
    "version": 3
   },
   "file_extension": ".py",
   "mimetype": "text/x-python",
   "name": "python",
   "nbconvert_exporter": "python",
   "pygments_lexer": "ipython3",
   "version": "3.10.10"
  },
  "orig_nbformat": 4
 },
 "nbformat": 4,
 "nbformat_minor": 2
}
