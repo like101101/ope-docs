{
 "cells": [
  {
   "cell_type": "code",
   "execution_count": 1,
   "id": "537294c0",
   "metadata": {
    "tags": [
     "remove-cell"
    ]
   },
   "outputs": [],
   "source": [
    "%run -i ../python/common.py"
   ]
  },
  {
   "attachments": {},
   "cell_type": "markdown",
   "id": "14840496-307f-4b4d-bf09-2687f4af1345",
   "metadata": {},
   "source": [
    "# Active OPE Repository Map\n",
    "\n",
    "The ongoing OPE work is spread across multiple repositories. The map of these active reposities are displayed below: "
   ]
  },
  {
   "attachments": {},
   "cell_type": "markdown",
   "id": "5a7a4801",
   "metadata": {},
   "source": [
    "<center>\n",
    "<img src=\"../images/src/activerepos.png\" width=1200px> \n",
    "</center>"
   ]
  },
  {
   "cell_type": "markdown",
   "id": "ac3ed443",
   "metadata": {},
   "source": []
  },
  {
   "cell_type": "markdown",
   "id": "c663c1d9",
   "metadata": {},
   "source": []
  }
 ],
 "metadata": {
  "kernelspec": {
   "display_name": "Python 3 (ipykernel)",
   "language": "python",
   "name": "python3"
  },
  "language_info": {
   "codemirror_mode": {
    "name": "ipython",
    "version": 3
   },
   "file_extension": ".py",
   "mimetype": "text/x-python",
   "name": "python",
   "nbconvert_exporter": "python",
   "pygments_lexer": "ipython3",
   "version": "3.10.10"
  }
 },
 "nbformat": 4,
 "nbformat_minor": 5
}
