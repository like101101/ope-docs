{
 "cells": [
  {
   "cell_type": "code",
   "execution_count": 1,
   "metadata": {
    "tags": [
     "remove-cell"
    ]
   },
   "outputs": [],
   "source": [
    "%run -i ../python/common.py"
   ]
  },
  {
   "attachments": {},
   "cell_type": "markdown",
   "metadata": {},
   "source": [
    "# Customizing Image"
   ]
  },
  {
   "attachments": {},
   "cell_type": "markdown",
   "metadata": {},
   "source": [
    "The Dockerfile contains the minimum requirements for creating OPE container images. You modify the following files in order to further customize the image to your course/textbook's specific needs:\n",
    "\n",
    "- **Dockerfile:** The base OPE image is created in a way such that you should only need to modify configuration files in order to install the necessary software. However, if you are familiar with building docker images, you may modify this file to suit your needs.\n",
    "\n",
    "- **python_prereqs:** Python packages that will be installed right before installing the main python packages, specified in the file right below this.\n",
    "\n",
    "- **python_pkgs:** Python packages that will be installed.\n",
    "\n",
    "- **distro_pkgs:** Linux distro packages that will be installed.\n"
   ]
  }
 ],
 "metadata": {
  "kernelspec": {
   "display_name": ".venv",
   "language": "python",
   "name": "python3"
  },
  "language_info": {
   "codemirror_mode": {
    "name": "ipython",
    "version": 3
   },
   "file_extension": ".py",
   "mimetype": "text/x-python",
   "name": "python",
   "nbconvert_exporter": "python",
   "pygments_lexer": "ipython3",
   "version": "3.10.10"
  },
  "orig_nbformat": 4
 },
 "nbformat": 4,
 "nbformat_minor": 2
}
