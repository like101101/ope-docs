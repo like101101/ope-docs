{
 "cells": [
  {
   "cell_type": "code",
   "execution_count": 2,
   "id": "1c55352a",
   "metadata": {
    "tags": [
     "remove-cell"
    ]
   },
   "outputs": [],
   "source": [
    "%run -i ../python/common.py\n",
    "%run -i ../python/ln_preamble.py"
   ]
  },
  {
   "attachments": {},
   "cell_type": "markdown",
   "id": "19e9326c-3dee-4dd9-b3f7-c6d53bd6ac03",
   "metadata": {},
   "source": [
    "# Initial Setup"
   ]
  },
  {
   "attachments": {},
   "cell_type": "markdown",
   "id": "489f66a9",
   "metadata": {},
   "source": [
    "[This branch](https://github.com/OPEFFORT/ope/tree/container-jupyter-docker-stacks) contains the source code to build the base image, which can then be built upon in order to create a custom container image that contains all the software needed to follow along with the textbook. Run the following commands to get started:\n",
    "\n",
    "\n",
    "```shell\n",
    "\n",
    "git clone https://github.com/OPEFFORT/ope.git\n",
    "\n",
    "cd ope\n",
    "\n",
    "git checkout container-jupyter-docker-stacks\n",
    "\n",
    "```\n",
    "\n",
    "Continue on to the following section to learn how you can customize the image."
   ]
  }
 ],
 "metadata": {
  "kernelspec": {
   "display_name": "Python 3 (ipykernel)",
   "language": "python",
   "name": "python3"
  },
  "language_info": {
   "codemirror_mode": {
    "name": "ipython",
    "version": 3
   },
   "file_extension": ".py",
   "mimetype": "text/x-python",
   "name": "python",
   "nbconvert_exporter": "python",
   "pygments_lexer": "ipython3",
   "version": "3.9.6"
  }
 },
 "nbformat": 4,
 "nbformat_minor": 5
}
